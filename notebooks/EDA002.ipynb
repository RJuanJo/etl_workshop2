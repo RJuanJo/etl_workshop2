{
 "cells": [
  {
   "cell_type": "markdown",
   "metadata": {},
   "source": [
    "# Import Libraries"
   ]
  },
  {
   "cell_type": "code",
   "execution_count": 7,
   "metadata": {},
   "outputs": [],
   "source": [
    "import pandas as pd \n",
    "import numpy as np \n",
    "import seaborn as sns\n",
    "import matplotlib.pyplot as plt\n",
    "from sqlalchemy import create_engine, MetaData, Table\n",
    "from sqlalchemy.orm import sessionmaker\n",
    "import json"
   ]
  },
  {
   "cell_type": "markdown",
   "metadata": {},
   "source": [
    "__Read data from DB__"
   ]
  },
  {
   "cell_type": "code",
   "execution_count": 8,
   "metadata": {},
   "outputs": [
    {
     "name": "stderr",
     "output_type": "stream",
     "text": [
      "C:\\Users\\juanj\\AppData\\Local\\Temp\\ipykernel_12596\\3829416644.py:15: RemovedIn20Warning: Deprecated API features detected! These feature(s) are not compatible with SQLAlchemy 2.0. To prevent incompatible upgrades prior to updating applications, ensure requirements files are pinned to \"sqlalchemy<2.0\". Set environment variable SQLALCHEMY_WARN_20=1 to show all deprecation warnings.  Set environment variable SQLALCHEMY_SILENCE_UBER_WARNING=1 to silence this message. (Background on SQLAlchemy 2.0 at: https://sqlalche.me/e/b8d9)\n",
      "  metadata = MetaData(bind=engine)\n"
     ]
    }
   ],
   "source": [
    "with open('../config/credentials.json', 'r') as json_file:\n",
    "    data = json.load(json_file)\n",
    "    host = data[\"host\"]\n",
    "    database = data[\"database\"]\n",
    "    user = data[\"user\"]\n",
    "    password = data[\"password\"]\n",
    "\n",
    "# Crear Conexión\n",
    "database_connection = f\"postgresql://{user}:{password}@{host}/{database}\"\n",
    "engine = create_engine(database_connection)\n",
    "\n",
    "# Inicializar la sesión\n",
    "Session = sessionmaker(bind=engine)\n",
    "session = Session()\n",
    "metadata = MetaData(bind=engine)\n",
    "metadata.reflect()\n",
    "\n",
    "# Acceder a la tabla 'grammys_data'\n",
    "grammys_table = metadata.tables['grammys_data']\n",
    "grammys_records = session.query(grammys_table).all()\n",
    "grammys_data = [record._asdict() for record in grammys_records]\n",
    "df_grammys = pd.DataFrame(grammys_data)\n",
    "\n",
    "# Cerrar la sesión\n",
    "session.close()"
   ]
  },
  {
   "cell_type": "code",
   "execution_count": 9,
   "metadata": {},
   "outputs": [
    {
     "data": {
      "text/html": [
       "<div>\n",
       "<style scoped>\n",
       "    .dataframe tbody tr th:only-of-type {\n",
       "        vertical-align: middle;\n",
       "    }\n",
       "\n",
       "    .dataframe tbody tr th {\n",
       "        vertical-align: top;\n",
       "    }\n",
       "\n",
       "    .dataframe thead th {\n",
       "        text-align: right;\n",
       "    }\n",
       "</style>\n",
       "<table border=\"1\" class=\"dataframe\">\n",
       "  <thead>\n",
       "    <tr style=\"text-align: right;\">\n",
       "      <th></th>\n",
       "      <th>year</th>\n",
       "      <th>title</th>\n",
       "      <th>published_at</th>\n",
       "      <th>updated_at</th>\n",
       "      <th>category</th>\n",
       "      <th>nominee</th>\n",
       "      <th>artist</th>\n",
       "      <th>workers</th>\n",
       "      <th>img</th>\n",
       "      <th>winner</th>\n",
       "    </tr>\n",
       "  </thead>\n",
       "  <tbody>\n",
       "    <tr>\n",
       "      <th>0</th>\n",
       "      <td>2019</td>\n",
       "      <td>62nd Annual GRAMMY Awards  (2019)</td>\n",
       "      <td>2020-05-19 07:10:28</td>\n",
       "      <td>2020-05-19 07:10:28</td>\n",
       "      <td>Record Of The Year</td>\n",
       "      <td>Bad Guy</td>\n",
       "      <td>Billie Eilish</td>\n",
       "      <td>Finneas O'Connell, producer; Rob Kinelski &amp; Fi...</td>\n",
       "      <td>https://www.grammy.com/sites/com/files/styles/...</td>\n",
       "      <td>True</td>\n",
       "    </tr>\n",
       "    <tr>\n",
       "      <th>1</th>\n",
       "      <td>2019</td>\n",
       "      <td>62nd Annual GRAMMY Awards  (2019)</td>\n",
       "      <td>2020-05-19 07:10:28</td>\n",
       "      <td>2020-05-19 07:10:28</td>\n",
       "      <td>Record Of The Year</td>\n",
       "      <td>Hey, Ma</td>\n",
       "      <td>Bon Iver</td>\n",
       "      <td>BJ Burton, Brad Cook, Chris Messina &amp; Justin V...</td>\n",
       "      <td>https://www.grammy.com/sites/com/files/styles/...</td>\n",
       "      <td>True</td>\n",
       "    </tr>\n",
       "    <tr>\n",
       "      <th>2</th>\n",
       "      <td>2019</td>\n",
       "      <td>62nd Annual GRAMMY Awards  (2019)</td>\n",
       "      <td>2020-05-19 07:10:28</td>\n",
       "      <td>2020-05-19 07:10:28</td>\n",
       "      <td>Record Of The Year</td>\n",
       "      <td>7 rings</td>\n",
       "      <td>Ariana Grande</td>\n",
       "      <td>Charles Anderson, Tommy Brown, Michael Foster ...</td>\n",
       "      <td>https://www.grammy.com/sites/com/files/styles/...</td>\n",
       "      <td>True</td>\n",
       "    </tr>\n",
       "    <tr>\n",
       "      <th>3</th>\n",
       "      <td>2019</td>\n",
       "      <td>62nd Annual GRAMMY Awards  (2019)</td>\n",
       "      <td>2020-05-19 07:10:28</td>\n",
       "      <td>2020-05-19 07:10:28</td>\n",
       "      <td>Record Of The Year</td>\n",
       "      <td>Hard Place</td>\n",
       "      <td>H.E.R.</td>\n",
       "      <td>Rodney “Darkchild” Jerkins, producer; Joseph H...</td>\n",
       "      <td>https://www.grammy.com/sites/com/files/styles/...</td>\n",
       "      <td>True</td>\n",
       "    </tr>\n",
       "    <tr>\n",
       "      <th>4</th>\n",
       "      <td>2019</td>\n",
       "      <td>62nd Annual GRAMMY Awards  (2019)</td>\n",
       "      <td>2020-05-19 07:10:28</td>\n",
       "      <td>2020-05-19 07:10:28</td>\n",
       "      <td>Record Of The Year</td>\n",
       "      <td>Talk</td>\n",
       "      <td>Khalid</td>\n",
       "      <td>Disclosure &amp; Denis Kosiak, producers; Ingmar C...</td>\n",
       "      <td>https://www.grammy.com/sites/com/files/styles/...</td>\n",
       "      <td>True</td>\n",
       "    </tr>\n",
       "  </tbody>\n",
       "</table>\n",
       "</div>"
      ],
      "text/plain": [
       "   year                              title        published_at  \\\n",
       "0  2019  62nd Annual GRAMMY Awards  (2019) 2020-05-19 07:10:28   \n",
       "1  2019  62nd Annual GRAMMY Awards  (2019) 2020-05-19 07:10:28   \n",
       "2  2019  62nd Annual GRAMMY Awards  (2019) 2020-05-19 07:10:28   \n",
       "3  2019  62nd Annual GRAMMY Awards  (2019) 2020-05-19 07:10:28   \n",
       "4  2019  62nd Annual GRAMMY Awards  (2019) 2020-05-19 07:10:28   \n",
       "\n",
       "           updated_at            category     nominee         artist  \\\n",
       "0 2020-05-19 07:10:28  Record Of The Year     Bad Guy  Billie Eilish   \n",
       "1 2020-05-19 07:10:28  Record Of The Year     Hey, Ma       Bon Iver   \n",
       "2 2020-05-19 07:10:28  Record Of The Year     7 rings  Ariana Grande   \n",
       "3 2020-05-19 07:10:28  Record Of The Year  Hard Place         H.E.R.   \n",
       "4 2020-05-19 07:10:28  Record Of The Year        Talk         Khalid   \n",
       "\n",
       "                                             workers  \\\n",
       "0  Finneas O'Connell, producer; Rob Kinelski & Fi...   \n",
       "1  BJ Burton, Brad Cook, Chris Messina & Justin V...   \n",
       "2  Charles Anderson, Tommy Brown, Michael Foster ...   \n",
       "3  Rodney “Darkchild” Jerkins, producer; Joseph H...   \n",
       "4  Disclosure & Denis Kosiak, producers; Ingmar C...   \n",
       "\n",
       "                                                 img  winner  \n",
       "0  https://www.grammy.com/sites/com/files/styles/...    True  \n",
       "1  https://www.grammy.com/sites/com/files/styles/...    True  \n",
       "2  https://www.grammy.com/sites/com/files/styles/...    True  \n",
       "3  https://www.grammy.com/sites/com/files/styles/...    True  \n",
       "4  https://www.grammy.com/sites/com/files/styles/...    True  "
      ]
     },
     "execution_count": 9,
     "metadata": {},
     "output_type": "execute_result"
    }
   ],
   "source": [
    "df=df_grammys\n",
    "df.head()"
   ]
  },
  {
   "cell_type": "code",
   "execution_count": 10,
   "metadata": {},
   "outputs": [
    {
     "name": "stdout",
     "output_type": "stream",
     "text": [
      "<class 'pandas.core.frame.DataFrame'>\n",
      "RangeIndex: 4810 entries, 0 to 4809\n",
      "Data columns (total 10 columns):\n",
      " #   Column        Non-Null Count  Dtype         \n",
      "---  ------        --------------  -----         \n",
      " 0   year          4810 non-null   int64         \n",
      " 1   title         4810 non-null   object        \n",
      " 2   published_at  4810 non-null   datetime64[ns]\n",
      " 3   updated_at    4810 non-null   datetime64[ns]\n",
      " 4   category      4810 non-null   object        \n",
      " 5   nominee       4810 non-null   object        \n",
      " 6   artist        4810 non-null   object        \n",
      " 7   workers       4810 non-null   object        \n",
      " 8   img           4810 non-null   object        \n",
      " 9   winner        4810 non-null   bool          \n",
      "dtypes: bool(1), datetime64[ns](2), int64(1), object(6)\n",
      "memory usage: 343.0+ KB\n"
     ]
    }
   ],
   "source": [
    "df.info()"
   ]
  },
  {
   "cell_type": "code",
   "execution_count": 24,
   "metadata": {},
   "outputs": [
    {
     "data": {
      "text/html": [
       "<div>\n",
       "<style scoped>\n",
       "    .dataframe tbody tr th:only-of-type {\n",
       "        vertical-align: middle;\n",
       "    }\n",
       "\n",
       "    .dataframe tbody tr th {\n",
       "        vertical-align: top;\n",
       "    }\n",
       "\n",
       "    .dataframe thead th {\n",
       "        text-align: right;\n",
       "    }\n",
       "</style>\n",
       "<table border=\"1\" class=\"dataframe\">\n",
       "  <thead>\n",
       "    <tr style=\"text-align: right;\">\n",
       "      <th></th>\n",
       "      <th>year</th>\n",
       "      <th>published_at</th>\n",
       "      <th>updated_at</th>\n",
       "    </tr>\n",
       "  </thead>\n",
       "  <tbody>\n",
       "    <tr>\n",
       "      <th>count</th>\n",
       "      <td>4810.000000</td>\n",
       "      <td>4810</td>\n",
       "      <td>4810</td>\n",
       "    </tr>\n",
       "    <tr>\n",
       "      <th>mean</th>\n",
       "      <td>1995.566944</td>\n",
       "      <td>2018-02-27 05:58:30.454677248</td>\n",
       "      <td>2019-09-24 09:10:26.281496832</td>\n",
       "    </tr>\n",
       "    <tr>\n",
       "      <th>min</th>\n",
       "      <td>1958.000000</td>\n",
       "      <td>2017-11-28 03:03:45</td>\n",
       "      <td>2017-11-28 03:03:45</td>\n",
       "    </tr>\n",
       "    <tr>\n",
       "      <th>25%</th>\n",
       "      <td>1983.000000</td>\n",
       "      <td>2017-11-28 03:03:45</td>\n",
       "      <td>2019-09-10 03:06:59</td>\n",
       "    </tr>\n",
       "    <tr>\n",
       "      <th>50%</th>\n",
       "      <td>1998.000000</td>\n",
       "      <td>2017-11-28 03:03:45</td>\n",
       "      <td>2019-09-10 03:08:19</td>\n",
       "    </tr>\n",
       "    <tr>\n",
       "      <th>75%</th>\n",
       "      <td>2010.000000</td>\n",
       "      <td>2017-11-28 03:03:45</td>\n",
       "      <td>2019-09-10 03:11:09</td>\n",
       "    </tr>\n",
       "    <tr>\n",
       "      <th>max</th>\n",
       "      <td>2019.000000</td>\n",
       "      <td>2020-05-19 07:10:28</td>\n",
       "      <td>2020-09-01 14:16:40</td>\n",
       "    </tr>\n",
       "    <tr>\n",
       "      <th>std</th>\n",
       "      <td>17.149720</td>\n",
       "      <td>NaN</td>\n",
       "      <td>NaN</td>\n",
       "    </tr>\n",
       "  </tbody>\n",
       "</table>\n",
       "</div>"
      ],
      "text/plain": [
       "              year                   published_at  \\\n",
       "count  4810.000000                           4810   \n",
       "mean   1995.566944  2018-02-27 05:58:30.454677248   \n",
       "min    1958.000000            2017-11-28 03:03:45   \n",
       "25%    1983.000000            2017-11-28 03:03:45   \n",
       "50%    1998.000000            2017-11-28 03:03:45   \n",
       "75%    2010.000000            2017-11-28 03:03:45   \n",
       "max    2019.000000            2020-05-19 07:10:28   \n",
       "std      17.149720                            NaN   \n",
       "\n",
       "                          updated_at  \n",
       "count                           4810  \n",
       "mean   2019-09-24 09:10:26.281496832  \n",
       "min              2017-11-28 03:03:45  \n",
       "25%              2019-09-10 03:06:59  \n",
       "50%              2019-09-10 03:08:19  \n",
       "75%              2019-09-10 03:11:09  \n",
       "max              2020-09-01 14:16:40  \n",
       "std                              NaN  "
      ]
     },
     "execution_count": 24,
     "metadata": {},
     "output_type": "execute_result"
    }
   ],
   "source": [
    "df.describe()"
   ]
  },
  {
   "cell_type": "code",
   "execution_count": 25,
   "metadata": {},
   "outputs": [
    {
     "name": "stdout",
     "output_type": "stream",
     "text": [
      "artist\n",
      "(Various Artists)                                                                                                               66\n",
      "U2                                                                                                                              18\n",
      "Aretha Franklin                                                                                                                 16\n",
      "Bruce Springsteen                                                                                                               13\n",
      "Stevie Wonder                                                                                                                   13\n",
      "                                                                                                                                ..\n",
      "Yo-Yo Ma                                                                                                                         1\n",
      "Christopher Guest, Eugene Levy & Michael McKean, songwriters (The Folksmen, Mitch & Mickey, And The New Main Street Singers)     1\n",
      "Kraftwerk                                                                                                                        1\n",
      "Bill Clinton, Mikhail Gorbachev & Sophia Loren (Kent Nagano; Russian National Orchestra)                                         1\n",
      "David Seville And The Chipmunks (Ross Bagdasarian, Sr.)                                                                          1\n",
      "Name: count, Length: 1658, dtype: int64\n"
     ]
    }
   ],
   "source": [
    "category_counts = df['artist'].value_counts()\n",
    "print(category_counts)"
   ]
  },
  {
   "cell_type": "code",
   "execution_count": 26,
   "metadata": {},
   "outputs": [
    {
     "name": "stdout",
     "output_type": "stream",
     "text": [
      "year               0\n",
      "title              0\n",
      "published_at       0\n",
      "updated_at         0\n",
      "category           0\n",
      "nominee            6\n",
      "artist          1840\n",
      "workers         2190\n",
      "img             1367\n",
      "winner             0\n",
      "dtype: int64\n"
     ]
    }
   ],
   "source": [
    "# Reemplaza la cadena 'NaN' con NaN verdadero\n",
    "df.replace('NaN', np.nan, inplace=True)\n",
    "print(df.isnull().sum())\n"
   ]
  },
  {
   "cell_type": "code",
   "execution_count": 27,
   "metadata": {},
   "outputs": [
    {
     "name": "stdout",
     "output_type": "stream",
     "text": [
      "year             0.000000\n",
      "title            0.000000\n",
      "published_at     0.000000\n",
      "updated_at       0.000000\n",
      "category         0.000000\n",
      "nominee          0.124740\n",
      "artist          38.253638\n",
      "workers         45.530146\n",
      "img             28.419958\n",
      "winner           0.000000\n",
      "dtype: float64\n"
     ]
    }
   ],
   "source": [
    "# Calculate NAs Percent\n",
    "total_entries = len(df)\n",
    "missing_per_column = df.isnull().sum()\n",
    "percentage_missing = (missing_per_column / total_entries) * 100\n",
    "print(percentage_missing)"
   ]
  }
 ],
 "metadata": {
  "kernelspec": {
   "display_name": ".venv",
   "language": "python",
   "name": "python3"
  },
  "language_info": {
   "codemirror_mode": {
    "name": "ipython",
    "version": 3
   },
   "file_extension": ".py",
   "mimetype": "text/x-python",
   "name": "python",
   "nbconvert_exporter": "python",
   "pygments_lexer": "ipython3",
   "version": "3.11.4"
  }
 },
 "nbformat": 4,
 "nbformat_minor": 2
}
