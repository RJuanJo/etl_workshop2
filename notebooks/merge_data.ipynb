{
 "cells": [
  {
   "cell_type": "markdown",
   "metadata": {},
   "source": [
    "# Import Libraries"
   ]
  },
  {
   "cell_type": "code",
   "execution_count": 47,
   "metadata": {},
   "outputs": [],
   "source": [
    "import pandas as pd \n",
    "import numpy as np "
   ]
  },
  {
   "cell_type": "markdown",
   "metadata": {},
   "source": [
    "# Preparing Data"
   ]
  },
  {
   "cell_type": "markdown",
   "metadata": {},
   "source": [
    "Duplicate values in the Spotify dataset are chosen to be deleted as they are not very useful when duplicated."
   ]
  },
  {
   "cell_type": "code",
   "execution_count": 48,
   "metadata": {},
   "outputs": [],
   "source": [
    "df_spotify = pd.read_csv(\"../data/spotify_to_merge.csv\")\n",
    "df_spotify = df_spotify.drop_duplicates(subset='track_name', keep='first')\n",
    "df_spotify = df_spotify[['track_name', 'artists']]\n",
    "\n",
    "df_grammys = pd.read_csv(\"../data/grammys_to_merge.csv\")\n",
    "df_grammys.rename(columns={'artist': 'artists', 'nominee':'track_name'}, inplace=True)"
   ]
  },
  {
   "cell_type": "markdown",
   "metadata": {},
   "source": [
    "# Merging Data"
   ]
  },
  {
   "cell_type": "markdown",
   "metadata": {},
   "source": [
    "\n",
    "The columns 'artists' and 'track_name' are used as references when performing the merge. \n",
    "\n",
    "First, the names in the Grammy dataset are changed, and then the merge is carried out."
   ]
  },
  {
   "cell_type": "code",
   "execution_count": 49,
   "metadata": {},
   "outputs": [
    {
     "data": {
      "text/html": [
       "<div>\n",
       "<style scoped>\n",
       "    .dataframe tbody tr th:only-of-type {\n",
       "        vertical-align: middle;\n",
       "    }\n",
       "\n",
       "    .dataframe tbody tr th {\n",
       "        vertical-align: top;\n",
       "    }\n",
       "\n",
       "    .dataframe thead th {\n",
       "        text-align: right;\n",
       "    }\n",
       "</style>\n",
       "<table border=\"1\" class=\"dataframe\">\n",
       "  <thead>\n",
       "    <tr style=\"text-align: right;\">\n",
       "      <th></th>\n",
       "      <th>track_name</th>\n",
       "      <th>artists</th>\n",
       "      <th>winner</th>\n",
       "      <th>awards_group</th>\n",
       "      <th>title_by_year</th>\n",
       "    </tr>\n",
       "  </thead>\n",
       "  <tbody>\n",
       "    <tr>\n",
       "      <th>0</th>\n",
       "      <td>pagadoff</td>\n",
       "      <td>!nvite</td>\n",
       "      <td>NaN</td>\n",
       "      <td>NaN</td>\n",
       "      <td>NaN</td>\n",
       "    </tr>\n",
       "    <tr>\n",
       "      <th>1</th>\n",
       "      <td>strolling</td>\n",
       "      <td>!nvite</td>\n",
       "      <td>NaN</td>\n",
       "      <td>NaN</td>\n",
       "      <td>NaN</td>\n",
       "    </tr>\n",
       "    <tr>\n",
       "      <th>2</th>\n",
       "      <td>Going on a Mission</td>\n",
       "      <td>\"Puppy Dog Pals\" Cast</td>\n",
       "      <td>NaN</td>\n",
       "      <td>NaN</td>\n",
       "      <td>NaN</td>\n",
       "    </tr>\n",
       "    <tr>\n",
       "      <th>3</th>\n",
       "      <td>Puppy Dog Pals Main Title Theme</td>\n",
       "      <td>\"Puppy Dog Pals\" Cast</td>\n",
       "      <td>NaN</td>\n",
       "      <td>NaN</td>\n",
       "      <td>NaN</td>\n",
       "    </tr>\n",
       "    <tr>\n",
       "      <th>4</th>\n",
       "      <td>Amish Paradise (Parody of \"Gangsta's Paradise\"...</td>\n",
       "      <td>\"Weird Al\" Yankovic</td>\n",
       "      <td>NaN</td>\n",
       "      <td>NaN</td>\n",
       "      <td>NaN</td>\n",
       "    </tr>\n",
       "    <tr>\n",
       "      <th>...</th>\n",
       "      <td>...</td>\n",
       "      <td>...</td>\n",
       "      <td>...</td>\n",
       "      <td>...</td>\n",
       "      <td>...</td>\n",
       "    </tr>\n",
       "    <tr>\n",
       "      <th>78322</th>\n",
       "      <td>NaN</td>\n",
       "      <td>NaN</td>\n",
       "      <td>True</td>\n",
       "      <td>Excellence Awards</td>\n",
       "      <td>(1971-1999) AGM</td>\n",
       "    </tr>\n",
       "    <tr>\n",
       "      <th>78323</th>\n",
       "      <td>NaN</td>\n",
       "      <td>NaN</td>\n",
       "      <td>True</td>\n",
       "      <td>Excellence Awards</td>\n",
       "      <td>(1971-1999) AGM</td>\n",
       "    </tr>\n",
       "    <tr>\n",
       "      <th>78324</th>\n",
       "      <td>NaN</td>\n",
       "      <td>NaN</td>\n",
       "      <td>True</td>\n",
       "      <td>Excellence Awards</td>\n",
       "      <td>(1971-1999) AGM</td>\n",
       "    </tr>\n",
       "    <tr>\n",
       "      <th>78325</th>\n",
       "      <td>NaN</td>\n",
       "      <td>NaN</td>\n",
       "      <td>True</td>\n",
       "      <td>Excellence Awards</td>\n",
       "      <td>(1958-1970) AGM</td>\n",
       "    </tr>\n",
       "    <tr>\n",
       "      <th>78326</th>\n",
       "      <td>NaN</td>\n",
       "      <td>NaN</td>\n",
       "      <td>True</td>\n",
       "      <td>Excellence Awards</td>\n",
       "      <td>(1958-1970) AGM</td>\n",
       "    </tr>\n",
       "  </tbody>\n",
       "</table>\n",
       "<p>78327 rows × 5 columns</p>\n",
       "</div>"
      ],
      "text/plain": [
       "                                              track_name  \\\n",
       "0                                               pagadoff   \n",
       "1                                              strolling   \n",
       "2                                     Going on a Mission   \n",
       "3                        Puppy Dog Pals Main Title Theme   \n",
       "4      Amish Paradise (Parody of \"Gangsta's Paradise\"...   \n",
       "...                                                  ...   \n",
       "78322                                                NaN   \n",
       "78323                                                NaN   \n",
       "78324                                                NaN   \n",
       "78325                                                NaN   \n",
       "78326                                                NaN   \n",
       "\n",
       "                     artists winner       awards_group    title_by_year  \n",
       "0                     !nvite    NaN                NaN              NaN  \n",
       "1                     !nvite    NaN                NaN              NaN  \n",
       "2      \"Puppy Dog Pals\" Cast    NaN                NaN              NaN  \n",
       "3      \"Puppy Dog Pals\" Cast    NaN                NaN              NaN  \n",
       "4        \"Weird Al\" Yankovic    NaN                NaN              NaN  \n",
       "...                      ...    ...                ...              ...  \n",
       "78322                    NaN   True  Excellence Awards  (1971-1999) AGM  \n",
       "78323                    NaN   True  Excellence Awards  (1971-1999) AGM  \n",
       "78324                    NaN   True  Excellence Awards  (1971-1999) AGM  \n",
       "78325                    NaN   True  Excellence Awards  (1958-1970) AGM  \n",
       "78326                    NaN   True  Excellence Awards  (1958-1970) AGM  \n",
       "\n",
       "[78327 rows x 5 columns]"
      ]
     },
     "execution_count": 49,
     "metadata": {},
     "output_type": "execute_result"
    }
   ],
   "source": [
    "df_merged = pd.merge(df_grammys, df_spotify, on=[\"artists\", \"track_name\"], how=\"outer\")\n",
    "df_merged"
   ]
  },
  {
   "cell_type": "markdown",
   "metadata": {},
   "source": [
    "## Improving Merge Data"
   ]
  },
  {
   "cell_type": "markdown",
   "metadata": {},
   "source": [
    "Now, looking at the dataframe after the merge, we see that there are many data points that are not useful, such as a large number of null values (which will be handled later), among other things.\n",
    "\n",
    "By using dataframes, it is decided to start searching and selecting data that match in both datasets (Spotify and Grammys) in the columns of artists and track_name, which will be helpful when wanting to do a future analysis."
   ]
  },
  {
   "cell_type": "code",
   "execution_count": 50,
   "metadata": {},
   "outputs": [],
   "source": [
    "common_tracks = pd.merge(df_grammys[['track_name']], df_spotify[['track_name']], on='track_name', how='inner')\n",
    "nominated_tracks = df_merged[df_merged['winner'] == True]\n",
    "nominated_winner_tracks = nominated_tracks[['track_name']]\n",
    "common_winner_tracks = pd.merge(common_tracks, nominated_winner_tracks, on='track_name', how='inner')\n",
    "\n",
    "nominated_winner_tracks = nominated_tracks[['track_name', 'artists', 'awards_group']]\n",
    "common_winner_tracks = pd.merge(common_tracks, nominated_winner_tracks, on='track_name', how='inner')\n"
   ]
  },
  {
   "cell_type": "code",
   "execution_count": 51,
   "metadata": {},
   "outputs": [
    {
     "name": "stdout",
     "output_type": "stream",
     "text": [
      "<class 'pandas.core.frame.DataFrame'>\n",
      "RangeIndex: 1357 entries, 0 to 1356\n",
      "Data columns (total 3 columns):\n",
      " #   Column        Non-Null Count  Dtype \n",
      "---  ------        --------------  ----- \n",
      " 0   track_name    1321 non-null   object\n",
      " 1   artists       946 non-null    object\n",
      " 2   awards_group  1357 non-null   object\n",
      "dtypes: object(3)\n",
      "memory usage: 31.9+ KB\n"
     ]
    }
   ],
   "source": [
    "common_winner_tracks.info()"
   ]
  },
  {
   "cell_type": "markdown",
   "metadata": {},
   "source": [
    "## Getting Data Ready. "
   ]
  },
  {
   "cell_type": "markdown",
   "metadata": {},
   "source": [
    "Once these similarities between the datasets are found, a final merge is decided, which will have all this data. \n",
    "\n",
    "In turn, due to the large number of nulls, it is decided to handle a maximum of 10,000 data with which a better analysis and management can be done. \n",
    "\n",
    "Finally, the most relevant columns are selected, leaving our final dataframe ready."
   ]
  },
  {
   "cell_type": "code",
   "execution_count": 52,
   "metadata": {},
   "outputs": [
    {
     "name": "stdout",
     "output_type": "stream",
     "text": [
      "<class 'pandas.core.frame.DataFrame'>\n",
      "RangeIndex: 79179 entries, 0 to 79178\n",
      "Data columns (total 5 columns):\n",
      " #   Column         Non-Null Count  Dtype \n",
      "---  ------         --------------  ----- \n",
      " 0   track_name     78963 non-null  object\n",
      " 1   artists        76882 non-null  object\n",
      " 2   winner         5662 non-null   object\n",
      " 3   awards_group   5662 non-null   object\n",
      " 4   title_by_year  5662 non-null   object\n",
      "dtypes: object(5)\n",
      "memory usage: 3.0+ MB\n"
     ]
    }
   ],
   "source": [
    "final_df = pd.merge(df_merged, common_winner_tracks, on=['track_name', 'artists', 'awards_group'], how='outer')\n",
    "final_df.info()"
   ]
  },
  {
   "cell_type": "code",
   "execution_count": 53,
   "metadata": {},
   "outputs": [
    {
     "data": {
      "text/html": [
       "<div>\n",
       "<style scoped>\n",
       "    .dataframe tbody tr th:only-of-type {\n",
       "        vertical-align: middle;\n",
       "    }\n",
       "\n",
       "    .dataframe tbody tr th {\n",
       "        vertical-align: top;\n",
       "    }\n",
       "\n",
       "    .dataframe thead th {\n",
       "        text-align: right;\n",
       "    }\n",
       "</style>\n",
       "<table border=\"1\" class=\"dataframe\">\n",
       "  <thead>\n",
       "    <tr style=\"text-align: right;\">\n",
       "      <th></th>\n",
       "      <th>track_name</th>\n",
       "      <th>artists</th>\n",
       "      <th>winner</th>\n",
       "      <th>awards_group</th>\n",
       "      <th>title_by_year</th>\n",
       "    </tr>\n",
       "  </thead>\n",
       "  <tbody>\n",
       "    <tr>\n",
       "      <th>0</th>\n",
       "      <td>!I'll Be Back!</td>\n",
       "      <td>Rilès</td>\n",
       "      <td>NaN</td>\n",
       "      <td>NaN</td>\n",
       "      <td>NaN</td>\n",
       "    </tr>\n",
       "    <tr>\n",
       "      <th>1</th>\n",
       "      <td>\"A\" You're Adorable</td>\n",
       "      <td>Brian Hyland</td>\n",
       "      <td>NaN</td>\n",
       "      <td>NaN</td>\n",
       "      <td>NaN</td>\n",
       "    </tr>\n",
       "    <tr>\n",
       "      <th>2</th>\n",
       "      <td>\"C\" IS FOR COOKIE</td>\n",
       "      <td>Little Apple Band</td>\n",
       "      <td>NaN</td>\n",
       "      <td>NaN</td>\n",
       "      <td>NaN</td>\n",
       "    </tr>\n",
       "    <tr>\n",
       "      <th>3</th>\n",
       "      <td>\"C\" is for Cookie</td>\n",
       "      <td>Little Apple Band</td>\n",
       "      <td>NaN</td>\n",
       "      <td>NaN</td>\n",
       "      <td>NaN</td>\n",
       "    </tr>\n",
       "    <tr>\n",
       "      <th>4</th>\n",
       "      <td>\"Christe, Redemptor omnium\"</td>\n",
       "      <td>Traditional;Sistine Chapel Choir;Massimo Palom...</td>\n",
       "      <td>NaN</td>\n",
       "      <td>NaN</td>\n",
       "      <td>NaN</td>\n",
       "    </tr>\n",
       "    <tr>\n",
       "      <th>...</th>\n",
       "      <td>...</td>\n",
       "      <td>...</td>\n",
       "      <td>...</td>\n",
       "      <td>...</td>\n",
       "      <td>...</td>\n",
       "    </tr>\n",
       "    <tr>\n",
       "      <th>79174</th>\n",
       "      <td>NaN</td>\n",
       "      <td>NaN</td>\n",
       "      <td>True</td>\n",
       "      <td>Excellence Awards</td>\n",
       "      <td>(1958-1970) AGM</td>\n",
       "    </tr>\n",
       "    <tr>\n",
       "      <th>79175</th>\n",
       "      <td>NaN</td>\n",
       "      <td>NaN</td>\n",
       "      <td>True</td>\n",
       "      <td>Excellence Awards</td>\n",
       "      <td>(1958-1970) AGM</td>\n",
       "    </tr>\n",
       "    <tr>\n",
       "      <th>79176</th>\n",
       "      <td>NaN</td>\n",
       "      <td>NaN</td>\n",
       "      <td>True</td>\n",
       "      <td>Excellence Awards</td>\n",
       "      <td>(1958-1970) AGM</td>\n",
       "    </tr>\n",
       "    <tr>\n",
       "      <th>79177</th>\n",
       "      <td>NaN</td>\n",
       "      <td>NaN</td>\n",
       "      <td>True</td>\n",
       "      <td>Excellence Awards</td>\n",
       "      <td>(1958-1970) AGM</td>\n",
       "    </tr>\n",
       "    <tr>\n",
       "      <th>79178</th>\n",
       "      <td>NaN</td>\n",
       "      <td>NaN</td>\n",
       "      <td>True</td>\n",
       "      <td>Excellence Awards</td>\n",
       "      <td>(1958-1970) AGM</td>\n",
       "    </tr>\n",
       "  </tbody>\n",
       "</table>\n",
       "<p>79179 rows × 5 columns</p>\n",
       "</div>"
      ],
      "text/plain": [
       "                        track_name  \\\n",
       "0                   !I'll Be Back!   \n",
       "1              \"A\" You're Adorable   \n",
       "2                \"C\" IS FOR COOKIE   \n",
       "3                \"C\" is for Cookie   \n",
       "4      \"Christe, Redemptor omnium\"   \n",
       "...                            ...   \n",
       "79174                          NaN   \n",
       "79175                          NaN   \n",
       "79176                          NaN   \n",
       "79177                          NaN   \n",
       "79178                          NaN   \n",
       "\n",
       "                                                 artists winner  \\\n",
       "0                                                  Rilès    NaN   \n",
       "1                                           Brian Hyland    NaN   \n",
       "2                                      Little Apple Band    NaN   \n",
       "3                                      Little Apple Band    NaN   \n",
       "4      Traditional;Sistine Chapel Choir;Massimo Palom...    NaN   \n",
       "...                                                  ...    ...   \n",
       "79174                                                NaN   True   \n",
       "79175                                                NaN   True   \n",
       "79176                                                NaN   True   \n",
       "79177                                                NaN   True   \n",
       "79178                                                NaN   True   \n",
       "\n",
       "            awards_group    title_by_year  \n",
       "0                    NaN              NaN  \n",
       "1                    NaN              NaN  \n",
       "2                    NaN              NaN  \n",
       "3                    NaN              NaN  \n",
       "4                    NaN              NaN  \n",
       "...                  ...              ...  \n",
       "79174  Excellence Awards  (1958-1970) AGM  \n",
       "79175  Excellence Awards  (1958-1970) AGM  \n",
       "79176  Excellence Awards  (1958-1970) AGM  \n",
       "79177  Excellence Awards  (1958-1970) AGM  \n",
       "79178  Excellence Awards  (1958-1970) AGM  \n",
       "\n",
       "[79179 rows x 5 columns]"
      ]
     },
     "execution_count": 53,
     "metadata": {},
     "output_type": "execute_result"
    }
   ],
   "source": [
    "final_df"
   ]
  },
  {
   "cell_type": "code",
   "execution_count": 54,
   "metadata": {},
   "outputs": [],
   "source": [
    "final_df.to_csv('../data/merged_data.csv', index=False)"
   ]
  },
  {
   "cell_type": "markdown",
   "metadata": {},
   "source": [
    "# Conclussions"
   ]
  },
  {
   "cell_type": "markdown",
   "metadata": {},
   "source": [
    "After analyzing and performing exploratory data analysis (EDA) on each dataset, it's clear that combining these datasets was a significant challenge, especially when aiming to generate insightful data. \n",
    "\n",
    "An example of this is illustrating which songs were Grammy-nominated and winners and which were not, among other ways of presenting conclusions with this data.\n",
    "\n",
    "The large percentage of nulls is a significant issue; however, the data and analysis can still be managed by taking them into account, as they cannot be imputed or eliminated."
   ]
  }
 ],
 "metadata": {
  "kernelspec": {
   "display_name": ".venv",
   "language": "python",
   "name": "python3"
  },
  "language_info": {
   "codemirror_mode": {
    "name": "ipython",
    "version": 3
   },
   "file_extension": ".py",
   "mimetype": "text/x-python",
   "name": "python",
   "nbconvert_exporter": "python",
   "pygments_lexer": "ipython3",
   "version": "3.11.4"
  }
 },
 "nbformat": 4,
 "nbformat_minor": 2
}
